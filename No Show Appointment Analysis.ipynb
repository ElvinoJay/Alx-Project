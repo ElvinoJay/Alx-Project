{
 "cells": [
  {
   "cell_type": "markdown",
   "id": "71808a74",
   "metadata": {},
   "source": [
    "\n",
    "# Project: Investigate a Dataset - [No-Show-Appointment]\n",
    "\n",
    "## Table of Contents\n",
    "<ul>\n",
    "<li><a href=\"#intro\">Introduction</a></li>\n",
    "<li><a href=\"#wrangling\">Data Wrangling</a></li>\n",
    "<li><a href=\"#eda\">Exploratory Data Analysis</a></li>\n",
    "<li><a href=\"#conclusions\">Conclusions</a></li>\n",
    "</ul>"
   ]
  },
  {
   "cell_type": "markdown",
   "id": "2011db59",
   "metadata": {},
   "source": [
    "<a id='intro'></a>\n",
    "## Introduction\n",
    "\n",
    "### Dataset Description \n",
    "\n",
    "\n",
    "This data set (No-Show-Appointments was chosen for the investigate datasets. it consists of 14 coulumns and 110527 rows gotten from the code df.shape having no null values. The columns include \n",
    "\n",
    "1) Appointment Id\n",
    "\n",
    "2) Gender - Indicates if the person is a  male por a female\n",
    "\n",
    "3) Scheduled Day - Indicates the dy the appointmment was set\n",
    "\n",
    "4) Appointment Day\n",
    "\n",
    "5) Age - Indicates the age of the patient \n",
    "\n",
    "6) Neighbourhood - Indicates the location of the hospital \n",
    "\n",
    "7) Scholarship\n",
    "\n",
    "8) Hipertension (Which was later renamed to Hypertension)\n",
    "\n",
    "9) Diabetes\n",
    "\n",
    "10) Alcoholism\n",
    "\n",
    "11) Handcap ( Which was later renamed as Handicap)\n",
    "\n",
    "12) Sms_Received \n",
    "\n",
    "13) No- Show \n",
    "\n",
    "14) Patient Id\n",
    "\n",
    "### Question(s) for Analysis\n",
    "Below are the questions posed on the dataset given. \n",
    "\n",
    "**Question 1 What is the most common disesse among people scheduled for appointment?**\n",
    "An attempt to know the most likely disease that patients scheduled for appointment have. \n",
    " \n",
    "**Question 2: Which Gender is more committed to attending appointments?**\n",
    "Due to the popolation as regards gender, the analyst hopes to show which of the gender is more commited to attending appointments that the other.\n",
    "\n",
    "**Question 3: What is the proportion of patient that showed up for appointment to those that didnt show up?**\n",
    "\n",
    "**Question 4: What is the proportion of patient with scholarship?**\n",
    "\n",
    "**Question 5: Does Scholarship affect appointment?**\n",
    "A very important question to pose as  availability of scholarship may or may not be the reason for missing appointments. This can be determined through visualization. \n",
    "\n",
    "\n"
   ]
  },
  {
   "cell_type": "code",
   "execution_count": 1,
   "id": "5a897146",
   "metadata": {},
   "outputs": [],
   "source": [
    "#importing Libraries and loading datasets\n",
    "import pandas as pd\n",
    "import numpy as np\n",
    "import matplotlib.pyplot as plt\n",
    "%matplotlib inline"
   ]
  },
  {
   "cell_type": "code",
   "execution_count": 2,
   "id": "0f73a31d",
   "metadata": {},
   "outputs": [],
   "source": [
    "#loading datasets\n",
    "df = pd.read_csv('noshowappointments-kagglev2-may-2016.csv')"
   ]
  },
  {
   "cell_type": "markdown",
   "id": "0b1c0795",
   "metadata": {},
   "source": [
    "## Data Wrangling"
   ]
  },
  {
   "cell_type": "code",
   "execution_count": 3,
   "id": "bea22195",
   "metadata": {
    "scrolled": true
   },
   "outputs": [
    {
     "data": {
      "text/html": [
       "<div>\n",
       "<style scoped>\n",
       "    .dataframe tbody tr th:only-of-type {\n",
       "        vertical-align: middle;\n",
       "    }\n",
       "\n",
       "    .dataframe tbody tr th {\n",
       "        vertical-align: top;\n",
       "    }\n",
       "\n",
       "    .dataframe thead th {\n",
       "        text-align: right;\n",
       "    }\n",
       "</style>\n",
       "<table border=\"1\" class=\"dataframe\">\n",
       "  <thead>\n",
       "    <tr style=\"text-align: right;\">\n",
       "      <th></th>\n",
       "      <th>PatientId</th>\n",
       "      <th>AppointmentID</th>\n",
       "      <th>Gender</th>\n",
       "      <th>ScheduledDay</th>\n",
       "      <th>AppointmentDay</th>\n",
       "      <th>Age</th>\n",
       "      <th>Neighbourhood</th>\n",
       "      <th>Scholarship</th>\n",
       "      <th>Hipertension</th>\n",
       "      <th>Diabetes</th>\n",
       "      <th>Alcoholism</th>\n",
       "      <th>Handcap</th>\n",
       "      <th>SMS_received</th>\n",
       "      <th>No-show</th>\n",
       "    </tr>\n",
       "  </thead>\n",
       "  <tbody>\n",
       "    <tr>\n",
       "      <th>0</th>\n",
       "      <td>2.987250e+13</td>\n",
       "      <td>5642903</td>\n",
       "      <td>F</td>\n",
       "      <td>2016-04-29T18:38:08Z</td>\n",
       "      <td>2016-04-29T00:00:00Z</td>\n",
       "      <td>62</td>\n",
       "      <td>JARDIM DA PENHA</td>\n",
       "      <td>0</td>\n",
       "      <td>1</td>\n",
       "      <td>0</td>\n",
       "      <td>0</td>\n",
       "      <td>0</td>\n",
       "      <td>0</td>\n",
       "      <td>No</td>\n",
       "    </tr>\n",
       "    <tr>\n",
       "      <th>1</th>\n",
       "      <td>5.589978e+14</td>\n",
       "      <td>5642503</td>\n",
       "      <td>M</td>\n",
       "      <td>2016-04-29T16:08:27Z</td>\n",
       "      <td>2016-04-29T00:00:00Z</td>\n",
       "      <td>56</td>\n",
       "      <td>JARDIM DA PENHA</td>\n",
       "      <td>0</td>\n",
       "      <td>0</td>\n",
       "      <td>0</td>\n",
       "      <td>0</td>\n",
       "      <td>0</td>\n",
       "      <td>0</td>\n",
       "      <td>No</td>\n",
       "    </tr>\n",
       "    <tr>\n",
       "      <th>2</th>\n",
       "      <td>4.262962e+12</td>\n",
       "      <td>5642549</td>\n",
       "      <td>F</td>\n",
       "      <td>2016-04-29T16:19:04Z</td>\n",
       "      <td>2016-04-29T00:00:00Z</td>\n",
       "      <td>62</td>\n",
       "      <td>MATA DA PRAIA</td>\n",
       "      <td>0</td>\n",
       "      <td>0</td>\n",
       "      <td>0</td>\n",
       "      <td>0</td>\n",
       "      <td>0</td>\n",
       "      <td>0</td>\n",
       "      <td>No</td>\n",
       "    </tr>\n",
       "    <tr>\n",
       "      <th>3</th>\n",
       "      <td>8.679512e+11</td>\n",
       "      <td>5642828</td>\n",
       "      <td>F</td>\n",
       "      <td>2016-04-29T17:29:31Z</td>\n",
       "      <td>2016-04-29T00:00:00Z</td>\n",
       "      <td>8</td>\n",
       "      <td>PONTAL DE CAMBURI</td>\n",
       "      <td>0</td>\n",
       "      <td>0</td>\n",
       "      <td>0</td>\n",
       "      <td>0</td>\n",
       "      <td>0</td>\n",
       "      <td>0</td>\n",
       "      <td>No</td>\n",
       "    </tr>\n",
       "    <tr>\n",
       "      <th>4</th>\n",
       "      <td>8.841186e+12</td>\n",
       "      <td>5642494</td>\n",
       "      <td>F</td>\n",
       "      <td>2016-04-29T16:07:23Z</td>\n",
       "      <td>2016-04-29T00:00:00Z</td>\n",
       "      <td>56</td>\n",
       "      <td>JARDIM DA PENHA</td>\n",
       "      <td>0</td>\n",
       "      <td>1</td>\n",
       "      <td>1</td>\n",
       "      <td>0</td>\n",
       "      <td>0</td>\n",
       "      <td>0</td>\n",
       "      <td>No</td>\n",
       "    </tr>\n",
       "  </tbody>\n",
       "</table>\n",
       "</div>"
      ],
      "text/plain": [
       "      PatientId  AppointmentID Gender          ScheduledDay  \\\n",
       "0  2.987250e+13        5642903      F  2016-04-29T18:38:08Z   \n",
       "1  5.589978e+14        5642503      M  2016-04-29T16:08:27Z   \n",
       "2  4.262962e+12        5642549      F  2016-04-29T16:19:04Z   \n",
       "3  8.679512e+11        5642828      F  2016-04-29T17:29:31Z   \n",
       "4  8.841186e+12        5642494      F  2016-04-29T16:07:23Z   \n",
       "\n",
       "         AppointmentDay  Age      Neighbourhood  Scholarship  Hipertension  \\\n",
       "0  2016-04-29T00:00:00Z   62    JARDIM DA PENHA            0             1   \n",
       "1  2016-04-29T00:00:00Z   56    JARDIM DA PENHA            0             0   \n",
       "2  2016-04-29T00:00:00Z   62      MATA DA PRAIA            0             0   \n",
       "3  2016-04-29T00:00:00Z    8  PONTAL DE CAMBURI            0             0   \n",
       "4  2016-04-29T00:00:00Z   56    JARDIM DA PENHA            0             1   \n",
       "\n",
       "   Diabetes  Alcoholism  Handcap  SMS_received No-show  \n",
       "0         0           0        0             0      No  \n",
       "1         0           0        0             0      No  \n",
       "2         0           0        0             0      No  \n",
       "3         0           0        0             0      No  \n",
       "4         1           0        0             0      No  "
      ]
     },
     "execution_count": 3,
     "metadata": {},
     "output_type": "execute_result"
    }
   ],
   "source": [
    "df.head(5)"
   ]
  },
  {
   "cell_type": "code",
   "execution_count": 4,
   "id": "6e1a371b",
   "metadata": {},
   "outputs": [
    {
     "name": "stdout",
     "output_type": "stream",
     "text": [
      "The dataframe has 110527 rows and 14 columns\n"
     ]
    }
   ],
   "source": [
    "# using th f-sring in conjunction with df.shape to show the size of the dataframe\n",
    "df.shape\n",
    "print(f'The dataframe has {df.shape[0]} rows and {df.shape[1]} columns')"
   ]
  },
  {
   "cell_type": "markdown",
   "id": "421f65dc",
   "metadata": {},
   "source": [
    "The dataset above has 110527 rows and 14 columns. Are there values for all the rows and columns and are they having the right data format in terms of datatype. \n",
    "\n",
    "This can be determined by assessing the data programmaticall using python assessing functions like info(), head(), describe(), to assess the dataset and piont out data consistency errors or errors in formatting.\n",
    "\n",
    "1. Checking for missing values\n",
    "\n",
    "2. Assessing data format\n",
    "\n",
    "3. Checking and removing unnecessary columns\n",
    "\n",
    "4. Renaming columns where appropriate. \n",
    "\n",
    "5. Checking for duplicates"
   ]
  },
  {
   "cell_type": "code",
   "execution_count": 5,
   "id": "01adc2b3",
   "metadata": {},
   "outputs": [
    {
     "name": "stdout",
     "output_type": "stream",
     "text": [
      "<class 'pandas.core.frame.DataFrame'>\n",
      "RangeIndex: 110527 entries, 0 to 110526\n",
      "Data columns (total 14 columns):\n",
      " #   Column          Non-Null Count   Dtype  \n",
      "---  ------          --------------   -----  \n",
      " 0   PatientId       110527 non-null  float64\n",
      " 1   AppointmentID   110527 non-null  int64  \n",
      " 2   Gender          110527 non-null  object \n",
      " 3   ScheduledDay    110527 non-null  object \n",
      " 4   AppointmentDay  110527 non-null  object \n",
      " 5   Age             110527 non-null  int64  \n",
      " 6   Neighbourhood   110527 non-null  object \n",
      " 7   Scholarship     110527 non-null  int64  \n",
      " 8   Hipertension    110527 non-null  int64  \n",
      " 9   Diabetes        110527 non-null  int64  \n",
      " 10  Alcoholism      110527 non-null  int64  \n",
      " 11  Handcap         110527 non-null  int64  \n",
      " 12  SMS_received    110527 non-null  int64  \n",
      " 13  No-show         110527 non-null  object \n",
      "dtypes: float64(1), int64(8), object(5)\n",
      "memory usage: 11.8+ MB\n"
     ]
    }
   ],
   "source": [
    "# Exploring data to check for errors in data format or null values\n",
    "df.info()"
   ]
  },
  {
   "cell_type": "code",
   "execution_count": 6,
   "id": "d7c87012",
   "metadata": {
    "scrolled": false
   },
   "outputs": [
    {
     "data": {
      "text/html": [
       "<div>\n",
       "<style scoped>\n",
       "    .dataframe tbody tr th:only-of-type {\n",
       "        vertical-align: middle;\n",
       "    }\n",
       "\n",
       "    .dataframe tbody tr th {\n",
       "        vertical-align: top;\n",
       "    }\n",
       "\n",
       "    .dataframe thead th {\n",
       "        text-align: right;\n",
       "    }\n",
       "</style>\n",
       "<table border=\"1\" class=\"dataframe\">\n",
       "  <thead>\n",
       "    <tr style=\"text-align: right;\">\n",
       "      <th></th>\n",
       "      <th>PatientId</th>\n",
       "      <th>AppointmentID</th>\n",
       "      <th>Age</th>\n",
       "      <th>Scholarship</th>\n",
       "      <th>Hipertension</th>\n",
       "      <th>Diabetes</th>\n",
       "      <th>Alcoholism</th>\n",
       "      <th>Handcap</th>\n",
       "      <th>SMS_received</th>\n",
       "    </tr>\n",
       "  </thead>\n",
       "  <tbody>\n",
       "    <tr>\n",
       "      <th>count</th>\n",
       "      <td>1.105270e+05</td>\n",
       "      <td>1.105270e+05</td>\n",
       "      <td>110527.000000</td>\n",
       "      <td>110527.000000</td>\n",
       "      <td>110527.000000</td>\n",
       "      <td>110527.000000</td>\n",
       "      <td>110527.000000</td>\n",
       "      <td>110527.000000</td>\n",
       "      <td>110527.000000</td>\n",
       "    </tr>\n",
       "    <tr>\n",
       "      <th>mean</th>\n",
       "      <td>1.474963e+14</td>\n",
       "      <td>5.675305e+06</td>\n",
       "      <td>37.088874</td>\n",
       "      <td>0.098266</td>\n",
       "      <td>0.197246</td>\n",
       "      <td>0.071865</td>\n",
       "      <td>0.030400</td>\n",
       "      <td>0.022248</td>\n",
       "      <td>0.321026</td>\n",
       "    </tr>\n",
       "    <tr>\n",
       "      <th>std</th>\n",
       "      <td>2.560949e+14</td>\n",
       "      <td>7.129575e+04</td>\n",
       "      <td>23.110205</td>\n",
       "      <td>0.297675</td>\n",
       "      <td>0.397921</td>\n",
       "      <td>0.258265</td>\n",
       "      <td>0.171686</td>\n",
       "      <td>0.161543</td>\n",
       "      <td>0.466873</td>\n",
       "    </tr>\n",
       "    <tr>\n",
       "      <th>min</th>\n",
       "      <td>3.921784e+04</td>\n",
       "      <td>5.030230e+06</td>\n",
       "      <td>-1.000000</td>\n",
       "      <td>0.000000</td>\n",
       "      <td>0.000000</td>\n",
       "      <td>0.000000</td>\n",
       "      <td>0.000000</td>\n",
       "      <td>0.000000</td>\n",
       "      <td>0.000000</td>\n",
       "    </tr>\n",
       "    <tr>\n",
       "      <th>25%</th>\n",
       "      <td>4.172614e+12</td>\n",
       "      <td>5.640286e+06</td>\n",
       "      <td>18.000000</td>\n",
       "      <td>0.000000</td>\n",
       "      <td>0.000000</td>\n",
       "      <td>0.000000</td>\n",
       "      <td>0.000000</td>\n",
       "      <td>0.000000</td>\n",
       "      <td>0.000000</td>\n",
       "    </tr>\n",
       "    <tr>\n",
       "      <th>50%</th>\n",
       "      <td>3.173184e+13</td>\n",
       "      <td>5.680573e+06</td>\n",
       "      <td>37.000000</td>\n",
       "      <td>0.000000</td>\n",
       "      <td>0.000000</td>\n",
       "      <td>0.000000</td>\n",
       "      <td>0.000000</td>\n",
       "      <td>0.000000</td>\n",
       "      <td>0.000000</td>\n",
       "    </tr>\n",
       "    <tr>\n",
       "      <th>75%</th>\n",
       "      <td>9.439172e+13</td>\n",
       "      <td>5.725524e+06</td>\n",
       "      <td>55.000000</td>\n",
       "      <td>0.000000</td>\n",
       "      <td>0.000000</td>\n",
       "      <td>0.000000</td>\n",
       "      <td>0.000000</td>\n",
       "      <td>0.000000</td>\n",
       "      <td>1.000000</td>\n",
       "    </tr>\n",
       "    <tr>\n",
       "      <th>max</th>\n",
       "      <td>9.999816e+14</td>\n",
       "      <td>5.790484e+06</td>\n",
       "      <td>115.000000</td>\n",
       "      <td>1.000000</td>\n",
       "      <td>1.000000</td>\n",
       "      <td>1.000000</td>\n",
       "      <td>1.000000</td>\n",
       "      <td>4.000000</td>\n",
       "      <td>1.000000</td>\n",
       "    </tr>\n",
       "  </tbody>\n",
       "</table>\n",
       "</div>"
      ],
      "text/plain": [
       "          PatientId  AppointmentID            Age    Scholarship  \\\n",
       "count  1.105270e+05   1.105270e+05  110527.000000  110527.000000   \n",
       "mean   1.474963e+14   5.675305e+06      37.088874       0.098266   \n",
       "std    2.560949e+14   7.129575e+04      23.110205       0.297675   \n",
       "min    3.921784e+04   5.030230e+06      -1.000000       0.000000   \n",
       "25%    4.172614e+12   5.640286e+06      18.000000       0.000000   \n",
       "50%    3.173184e+13   5.680573e+06      37.000000       0.000000   \n",
       "75%    9.439172e+13   5.725524e+06      55.000000       0.000000   \n",
       "max    9.999816e+14   5.790484e+06     115.000000       1.000000   \n",
       "\n",
       "        Hipertension       Diabetes     Alcoholism        Handcap  \\\n",
       "count  110527.000000  110527.000000  110527.000000  110527.000000   \n",
       "mean        0.197246       0.071865       0.030400       0.022248   \n",
       "std         0.397921       0.258265       0.171686       0.161543   \n",
       "min         0.000000       0.000000       0.000000       0.000000   \n",
       "25%         0.000000       0.000000       0.000000       0.000000   \n",
       "50%         0.000000       0.000000       0.000000       0.000000   \n",
       "75%         0.000000       0.000000       0.000000       0.000000   \n",
       "max         1.000000       1.000000       1.000000       4.000000   \n",
       "\n",
       "        SMS_received  \n",
       "count  110527.000000  \n",
       "mean        0.321026  \n",
       "std         0.466873  \n",
       "min         0.000000  \n",
       "25%         0.000000  \n",
       "50%         0.000000  \n",
       "75%         1.000000  \n",
       "max         1.000000  "
      ]
     },
     "execution_count": 6,
     "metadata": {},
     "output_type": "execute_result"
    }
   ],
   "source": [
    "# Getting a summary statistic on all the data set numerical columns \n",
    "df.describe()"
   ]
  },
  {
   "cell_type": "code",
   "execution_count": 7,
   "id": "dd2bc7bd",
   "metadata": {},
   "outputs": [
    {
     "name": "stdout",
     "output_type": "stream",
     "text": [
      "There are 0 duplicates in the dataset\n"
     ]
    }
   ],
   "source": [
    "df.duplicated().sum()\n",
    "print(f'There are {df.duplicated().sum()} duplicates in the dataset')"
   ]
  },
  {
   "cell_type": "markdown",
   "id": "1dee8327",
   "metadata": {},
   "source": [
    "From the output above\n",
    "1. None of the columns have missing values and dataset contains 0 duplicates. \n",
    "\n",
    "2. Some Columns are mispelt (Hipertension, Handcap)\n",
    "\n",
    "3. No-show column seems a bit confusing and would have to be restructured appropriately\n",
    "\n",
    "4. From the questions set above, not all columns would be needed for analysis of the dataset\n",
    "\n",
    "5. outliers are seen in the age columns. "
   ]
  },
  {
   "cell_type": "code",
   "execution_count": 8,
   "id": "9a4e1c00",
   "metadata": {},
   "outputs": [
    {
     "data": {
      "text/plain": [
       "Index(['PatientId', 'AppointmentID', 'Gender', 'ScheduledDay',\n",
       "       'AppointmentDay', 'Age', 'Neighbourhood', 'Scholarship', 'Hypertension',\n",
       "       'Diabetes', 'Alcoholism', 'Handicap', 'SMS_received', 'No-show'],\n",
       "      dtype='object')"
      ]
     },
     "execution_count": 8,
     "metadata": {},
     "output_type": "execute_result"
    }
   ],
   "source": [
    "#Renaming columns\n",
    "df.rename(columns = {'Hipertension': 'Hypertension', 'Handcap': 'Handicap'}, inplace = True)\n",
    "df.columns"
   ]
  },
  {
   "cell_type": "code",
   "execution_count": 9,
   "id": "d44f692e",
   "metadata": {},
   "outputs": [
    {
     "data": {
      "text/plain": [
       "0    1\n",
       "1    1\n",
       "2    1\n",
       "3    1\n",
       "4    1\n",
       "Name: Show, dtype: int64"
      ]
     },
     "execution_count": 9,
     "metadata": {},
     "output_type": "execute_result"
    }
   ],
   "source": [
    "# renaming 'no-show' to 'show' to aid understanding\n",
    "df.rename(columns = {'No-show' : 'Show'}, inplace = True)\n",
    "\n",
    "# writing anonymous function to sawp 'No' to 1 and 'Yes' to 0\n",
    "# 1 meaning the patient showed up\n",
    "# 0 meaning they did not show\n",
    "\n",
    "swap = lambda x : 0  if x == 'Yes' else 1\n",
    "\n",
    "df['Show'] = df['Show'].map(lambda x : 0  if x == 'Yes' else 1)\n",
    "\n",
    "#checking to see changes was properly implemented\n",
    "\n",
    "df['Show'].head(5)"
   ]
  },
  {
   "cell_type": "code",
   "execution_count": 10,
   "id": "112121f6",
   "metadata": {},
   "outputs": [
    {
     "data": {
      "text/html": [
       "<div>\n",
       "<style scoped>\n",
       "    .dataframe tbody tr th:only-of-type {\n",
       "        vertical-align: middle;\n",
       "    }\n",
       "\n",
       "    .dataframe tbody tr th {\n",
       "        vertical-align: top;\n",
       "    }\n",
       "\n",
       "    .dataframe thead th {\n",
       "        text-align: right;\n",
       "    }\n",
       "</style>\n",
       "<table border=\"1\" class=\"dataframe\">\n",
       "  <thead>\n",
       "    <tr style=\"text-align: right;\">\n",
       "      <th></th>\n",
       "      <th>Gender</th>\n",
       "      <th>AppointmentDay</th>\n",
       "      <th>Age</th>\n",
       "      <th>Neighbourhood</th>\n",
       "      <th>Scholarship</th>\n",
       "      <th>Hypertension</th>\n",
       "      <th>Diabetes</th>\n",
       "      <th>Alcoholism</th>\n",
       "      <th>Handicap</th>\n",
       "      <th>SMS_received</th>\n",
       "      <th>Show</th>\n",
       "    </tr>\n",
       "  </thead>\n",
       "  <tbody>\n",
       "    <tr>\n",
       "      <th>0</th>\n",
       "      <td>F</td>\n",
       "      <td>2016-04-29T00:00:00Z</td>\n",
       "      <td>62</td>\n",
       "      <td>JARDIM DA PENHA</td>\n",
       "      <td>0</td>\n",
       "      <td>1</td>\n",
       "      <td>0</td>\n",
       "      <td>0</td>\n",
       "      <td>0</td>\n",
       "      <td>0</td>\n",
       "      <td>1</td>\n",
       "    </tr>\n",
       "    <tr>\n",
       "      <th>1</th>\n",
       "      <td>M</td>\n",
       "      <td>2016-04-29T00:00:00Z</td>\n",
       "      <td>56</td>\n",
       "      <td>JARDIM DA PENHA</td>\n",
       "      <td>0</td>\n",
       "      <td>0</td>\n",
       "      <td>0</td>\n",
       "      <td>0</td>\n",
       "      <td>0</td>\n",
       "      <td>0</td>\n",
       "      <td>1</td>\n",
       "    </tr>\n",
       "    <tr>\n",
       "      <th>2</th>\n",
       "      <td>F</td>\n",
       "      <td>2016-04-29T00:00:00Z</td>\n",
       "      <td>62</td>\n",
       "      <td>MATA DA PRAIA</td>\n",
       "      <td>0</td>\n",
       "      <td>0</td>\n",
       "      <td>0</td>\n",
       "      <td>0</td>\n",
       "      <td>0</td>\n",
       "      <td>0</td>\n",
       "      <td>1</td>\n",
       "    </tr>\n",
       "    <tr>\n",
       "      <th>3</th>\n",
       "      <td>F</td>\n",
       "      <td>2016-04-29T00:00:00Z</td>\n",
       "      <td>8</td>\n",
       "      <td>PONTAL DE CAMBURI</td>\n",
       "      <td>0</td>\n",
       "      <td>0</td>\n",
       "      <td>0</td>\n",
       "      <td>0</td>\n",
       "      <td>0</td>\n",
       "      <td>0</td>\n",
       "      <td>1</td>\n",
       "    </tr>\n",
       "    <tr>\n",
       "      <th>4</th>\n",
       "      <td>F</td>\n",
       "      <td>2016-04-29T00:00:00Z</td>\n",
       "      <td>56</td>\n",
       "      <td>JARDIM DA PENHA</td>\n",
       "      <td>0</td>\n",
       "      <td>1</td>\n",
       "      <td>1</td>\n",
       "      <td>0</td>\n",
       "      <td>0</td>\n",
       "      <td>0</td>\n",
       "      <td>1</td>\n",
       "    </tr>\n",
       "  </tbody>\n",
       "</table>\n",
       "</div>"
      ],
      "text/plain": [
       "  Gender        AppointmentDay  Age      Neighbourhood  Scholarship  \\\n",
       "0      F  2016-04-29T00:00:00Z   62    JARDIM DA PENHA            0   \n",
       "1      M  2016-04-29T00:00:00Z   56    JARDIM DA PENHA            0   \n",
       "2      F  2016-04-29T00:00:00Z   62      MATA DA PRAIA            0   \n",
       "3      F  2016-04-29T00:00:00Z    8  PONTAL DE CAMBURI            0   \n",
       "4      F  2016-04-29T00:00:00Z   56    JARDIM DA PENHA            0   \n",
       "\n",
       "   Hypertension  Diabetes  Alcoholism  Handicap  SMS_received  Show  \n",
       "0             1         0           0         0             0     1  \n",
       "1             0         0           0         0             0     1  \n",
       "2             0         0           0         0             0     1  \n",
       "3             0         0           0         0             0     1  \n",
       "4             1         1           0         0             0     1  "
      ]
     },
     "execution_count": 10,
     "metadata": {},
     "output_type": "execute_result"
    }
   ],
   "source": [
    "# Selecting columns to aid analysis \n",
    "df = df[['Gender',\n",
    "       'AppointmentDay', 'Age', 'Neighbourhood', 'Scholarship', 'Hypertension',\n",
    "       'Diabetes', 'Alcoholism', 'Handicap', 'SMS_received', 'Show']]\n",
    "df.head()"
   ]
  },
  {
   "cell_type": "markdown",
   "id": "773041ab",
   "metadata": {},
   "source": [
    "This Dataset cntains 0 duplicates and zero null values "
   ]
  },
  {
   "cell_type": "markdown",
   "id": "86e7a231",
   "metadata": {},
   "source": [
    "## Exploratory Data Analysis"
   ]
  },
  {
   "cell_type": "markdown",
   "id": "f3369dfc",
   "metadata": {},
   "source": [
    "## Question 1  What is the most common disease among people scheduled for appointment?"
   ]
  },
  {
   "cell_type": "markdown",
   "id": "a32bc3f1",
   "metadata": {},
   "source": [
    "**Getting the Proportion of each disease to compare with each other**"
   ]
  },
  {
   "cell_type": "code",
   "execution_count": 11,
   "id": "356c1adb",
   "metadata": {},
   "outputs": [],
   "source": [
    "# a function that calculates  the percentages of all diseases and returns the actual percentage\n",
    "def percent(x):\n",
    "     y = x.value_counts()[1]/len(x) * 100\n",
    "    \n",
    "     return y"
   ]
  },
  {
   "cell_type": "code",
   "execution_count": 12,
   "id": "81508674",
   "metadata": {},
   "outputs": [],
   "source": [
    "Hypertension = percent(df['Hypertension'])\n",
    "Handicap = percent(df['Handicap'])\n",
    "Alcoholism = percent(df['Alcoholism'])\n",
    "Diabetes = percent(df['Diabetes'])"
   ]
  },
  {
   "cell_type": "code",
   "execution_count": 13,
   "id": "4c6455c3",
   "metadata": {
    "scrolled": true
   },
   "outputs": [
    {
     "data": {
      "image/png": "[encoded data removed]",
      "text/plain": [
       "<Figure size 432x288 with 1 Axes>"
      ]
     },
     "metadata": {
      "needs_background": "light"
     },
     "output_type": "display_data"
    }
   ],
   "source": [
    "location = [1,2,3,4] \n",
    "Height = [Hypertension, Diabetes, Alcoholism, Handicap]\n",
    "labels =['Hypertension', 'Diabetes', 'Alcoholism', 'Handicap']\n",
    "label = ['Diabetes', 'Alcoholism', 'Handicap', 'Hypertension']\n",
    "plt.bar(location,Height)\n",
    "plt.xlabel('Diseases')\n",
    "plt.ylabel('Rate of occurence')\n",
    "plt.title('Rate of occurence of diseases')\n",
    "plt.xticks(location, labels);"
   ]
  },
  {
   "cell_type": "code",
   "execution_count": null,
   "id": "0be45492",
   "metadata": {},
   "outputs": [],
   "source": []
  },
  {
   "cell_type": "markdown",
   "id": "81855142",
   "metadata": {},
   "source": [
    "**The graph above shows that hypertension is the disease that occurs most than other diseases. It is the most common disease that has appointments scheduled. **"
   ]
  },
  {
   "cell_type": "markdown",
   "id": "9c2dddef",
   "metadata": {},
   "source": [
    "## Question 2: Which Gender is more committed to attending appointments?"
   ]
  },
  {
   "cell_type": "markdown",
   "id": "a2d69d49",
   "metadata": {},
   "source": [
    "**Getting the count of male and female that showed up for appointment**\n"
   ]
  },
  {
   "cell_type": "code",
   "execution_count": 14,
   "id": "278ebe6c",
   "metadata": {},
   "outputs": [
    {
     "data": {
      "text/plain": [
       "Gender  Show\n",
       "F       1       57246\n",
       "        0       14594\n",
       "M       1       30962\n",
       "        0        7725\n",
       "Name: Show, dtype: int64"
      ]
     },
     "execution_count": 14,
     "metadata": {},
     "output_type": "execute_result"
    }
   ],
   "source": [
    "# getting the count of male and female that showed up for appointment\n",
    "gender_show_count = df.groupby('Gender')['Show'].value_counts()\n",
    "gender_show_count"
   ]
  },
  {
   "cell_type": "code",
   "execution_count": 15,
   "id": "64f5e240",
   "metadata": {},
   "outputs": [
    {
     "data": {
      "text/plain": [
       "Gender  Show\n",
       "M       1       30962\n",
       "F       1       57246\n",
       "Name: Show, dtype: int64"
      ]
     },
     "execution_count": 15,
     "metadata": {},
     "output_type": "execute_result"
    }
   ],
   "source": [
    "#getting the count of male and female that showed up for appointment.\n",
    "gender_show_count[[2,0]]"
   ]
  },
  {
   "cell_type": "code",
   "execution_count": 16,
   "id": "18cbffc5",
   "metadata": {},
   "outputs": [
    {
     "data": {
      "text/plain": [
       "1    88208\n",
       "0    22319\n",
       "Name: Show, dtype: int64"
      ]
     },
     "execution_count": 16,
     "metadata": {},
     "output_type": "execute_result"
    }
   ],
   "source": [
    "#getting the total sum of patients that showed up for their appointment\n",
    "df['Show'].value_counts()"
   ]
  },
  {
   "cell_type": "code",
   "execution_count": 17,
   "id": "ad98bb47",
   "metadata": {},
   "outputs": [
    {
     "data": {
      "text/plain": [
       "0.6489887538545257"
      ]
     },
     "execution_count": 17,
     "metadata": {},
     "output_type": "execute_result"
    }
   ],
   "source": [
    "# the proportion of female pateints that showed up for their appointment\n",
    "Female = gender_show_count[[2,0]][1]/df['Show'].value_counts()[1]\n",
    "Female"
   ]
  },
  {
   "cell_type": "code",
   "execution_count": 18,
   "id": "12243c40",
   "metadata": {
    "scrolled": true
   },
   "outputs": [
    {
     "data": {
      "text/plain": [
       "0.35101124614547435"
      ]
     },
     "execution_count": 18,
     "metadata": {},
     "output_type": "execute_result"
    }
   ],
   "source": [
    "# the proportion of male pateints that showed up for their appointment\n",
    "\n",
    "Male = gender_show_count[[2,0]][0]/df['Show'].value_counts()[1]\n",
    "Male"
   ]
  },
  {
   "cell_type": "code",
   "execution_count": 19,
   "id": "2f0aada1",
   "metadata": {
    "scrolled": true
   },
   "outputs": [
    {
     "data": {
      "image/png": "[encoded data removed]",
      "text/plain": [
       "<Figure size 432x288 with 1 Axes>"
      ]
     },
     "metadata": {},
     "output_type": "display_data"
    }
   ],
   "source": [
    "#plotting a pie chart to show the proportion of gender in regards to showing up for appointment. \n",
    "Height = [Male, Female]\n",
    "labels =['Male', 'Female']\n",
    "plt.pie(Height, labels = labels)\n",
    "plt.title('Gender commited to appointment');"
   ]
  },
  {
   "cell_type": "markdown",
   "id": "66299452",
   "metadata": {},
   "source": [
    "**From the diagram above, it is clear that females are more committed to showing up for appointment than males **"
   ]
  },
  {
   "cell_type": "markdown",
   "id": "1aca3fbc",
   "metadata": {},
   "source": [
    " ## Question 3: What is the proportion of patient that showed up for appointment to those that didnt show up?"
   ]
  },
  {
   "cell_type": "code",
   "execution_count": 20,
   "id": "6bb648e0",
   "metadata": {
    "scrolled": true
   },
   "outputs": [
    {
     "data": {
      "text/plain": [
       "1    88208\n",
       "0    22319\n",
       "Name: Show, dtype: int64"
      ]
     },
     "execution_count": 20,
     "metadata": {},
     "output_type": "execute_result"
    }
   ],
   "source": [
    "# Getting the sum total of appointment show or no_show\n",
    "df['Show'].value_counts()"
   ]
  },
  {
   "cell_type": "code",
   "execution_count": 21,
   "id": "c6351c76",
   "metadata": {},
   "outputs": [
    {
     "data": {
      "text/plain": [
       "0.798067440534892"
      ]
     },
     "execution_count": 21,
     "metadata": {},
     "output_type": "execute_result"
    }
   ],
   "source": [
    "show_up = df['Show'].value_counts()[1]/len(df['Show'])\n",
    "show_up"
   ]
  },
  {
   "cell_type": "code",
   "execution_count": 22,
   "id": "51b7354c",
   "metadata": {},
   "outputs": [
    {
     "data": {
      "text/plain": [
       "0.20193255946510807"
      ]
     },
     "execution_count": 22,
     "metadata": {},
     "output_type": "execute_result"
    }
   ],
   "source": [
    "no_show_up = df['Show'].value_counts()[0]/len(df['Show'])\n",
    "no_show_up"
   ]
  },
  {
   "cell_type": "code",
   "execution_count": 23,
   "id": "66b30184",
   "metadata": {},
   "outputs": [
    {
     "data": {
      "image/png": "[encoded data removed]",
      "text/plain": [
       "<Figure size 432x288 with 1 Axes>"
      ]
     },
     "metadata": {},
     "output_type": "display_data"
    }
   ],
   "source": [
    "location = [1,2] \n",
    "Height = [show_up, no_show_up]\n",
    "labels =['show_up', 'no_show_up']\n",
    "plt.pie(Height, labels=labels)\n",
    "plt.title('Proportion of patient that showed up');"
   ]
  },
  {
   "cell_type": "markdown",
   "id": "cfd3ffda",
   "metadata": {},
   "source": [
    "**From the diagram above, it is quite clear patients that show up for appointments are more than those that don't. **"
   ]
  },
  {
   "cell_type": "markdown",
   "id": "e97e54df",
   "metadata": {},
   "source": [
    " ## Question 4: What is the proportion of patient with scholarship?"
   ]
  },
  {
   "cell_type": "code",
   "execution_count": 24,
   "id": "b12a602b",
   "metadata": {},
   "outputs": [
    {
     "data": {
      "text/plain": [
       "0    99666\n",
       "1    10861\n",
       "Name: Scholarship, dtype: int64"
      ]
     },
     "execution_count": 24,
     "metadata": {},
     "output_type": "execute_result"
    }
   ],
   "source": [
    "# getting the total number of patient with and without  scholarship\n",
    "df['Scholarship'].value_counts()"
   ]
  },
  {
   "cell_type": "code",
   "execution_count": 25,
   "id": "886a7ab0",
   "metadata": {},
   "outputs": [],
   "source": [
    "no_scholarship = df['Scholarship'].value_counts()[0]\n",
    "scholarship = df['Scholarship'].value_counts()[1]"
   ]
  },
  {
   "cell_type": "code",
   "execution_count": 26,
   "id": "dc55a75c",
   "metadata": {},
   "outputs": [
    {
     "data": {
      "text/plain": [
       "0.9017344178345562"
      ]
     },
     "execution_count": 26,
     "metadata": {},
     "output_type": "execute_result"
    }
   ],
   "source": [
    "# calculating the mean no-scholarship s to get the proportion \n",
    "no_scholarship/ df['Scholarship'].shape[0]"
   ]
  },
  {
   "cell_type": "code",
   "execution_count": 27,
   "id": "9f65478c",
   "metadata": {},
   "outputs": [
    {
     "data": {
      "text/plain": [
       "0.09826558216544373"
      ]
     },
     "execution_count": 27,
     "metadata": {},
     "output_type": "execute_result"
    }
   ],
   "source": [
    "# calculating the mean scholarship to get the proportion \n",
    "\n",
    "scholarship/ df['Scholarship'].shape[0]"
   ]
  },
  {
   "cell_type": "code",
   "execution_count": 28,
   "id": "91899866",
   "metadata": {
    "scrolled": true
   },
   "outputs": [
    {
     "data": {
      "image/png": "[encoded data removed]",
      "text/plain": [
       "<Figure size 432x288 with 1 Axes>"
      ]
     },
     "metadata": {
      "needs_background": "light"
     },
     "output_type": "display_data"
    }
   ],
   "source": [
    "#plotting a bar chart to show proportion of appointment to scholarship\n",
    "location = [1, 2] \n",
    "Height = [no_scholarship, scholarship]\n",
    "labels =['no_scholarship', 'scholarship']\n",
    "plt.bar(location,Height, color = ['r', 'b'])\n",
    "plt.xlabel('Scholarships')\n",
    "plt.ylabel('Appointment count ratio')\n",
    "plt.title('Influence of Scholarhip on appointment')\n",
    "plt.xticks(location, labels);"
   ]
  },
  {
   "cell_type": "code",
   "execution_count": null,
   "id": "7627a8d3",
   "metadata": {},
   "outputs": [],
   "source": []
  },
  {
   "cell_type": "markdown",
   "id": "9cb8c217",
   "metadata": {},
   "source": [
    "**From the graph above, it shows that patients with no scholarship are more than patients with scholarship **"
   ]
  },
  {
   "cell_type": "markdown",
   "id": "3cbc9e8d",
   "metadata": {},
   "source": [
    "## Question 5: Does Scholarship affect appointment?"
   ]
  },
  {
   "cell_type": "code",
   "execution_count": 29,
   "id": "8e83a604",
   "metadata": {},
   "outputs": [
    {
     "data": {
      "text/plain": [
       "Scholarship  Show\n",
       "0            1       79925\n",
       "             0       19741\n",
       "1            1        8283\n",
       "             0        2578\n",
       "Name: Show, dtype: int64"
      ]
     },
     "execution_count": 29,
     "metadata": {},
     "output_type": "execute_result"
    }
   ],
   "source": [
    "# Performing a groupby to get the know how many patient with scholarship showed up and vice versa\n",
    "group = df.groupby('Scholarship')['Show'].value_counts()\n",
    "group"
   ]
  },
  {
   "cell_type": "code",
   "execution_count": 30,
   "id": "215a1c0e",
   "metadata": {},
   "outputs": [
    {
     "data": {
      "text/plain": [
       "79925"
      ]
     },
     "execution_count": 30,
     "metadata": {},
     "output_type": "execute_result"
    }
   ],
   "source": [
    "# extravcting the count of patient with no scholarship but showed up for appointment\n",
    "no_scholarship_show = group[0,1]\n",
    "no_scholarship_show"
   ]
  },
  {
   "cell_type": "code",
   "execution_count": 31,
   "id": "0381aacc",
   "metadata": {},
   "outputs": [
    {
     "data": {
      "text/plain": [
       "99666"
      ]
     },
     "execution_count": 31,
     "metadata": {},
     "output_type": "execute_result"
    }
   ],
   "source": [
    "#gettint the total count of patient without scholarship\n",
    "no_scholarship = df['Scholarship'].value_counts()[0]\n",
    "no_scholarship "
   ]
  },
  {
   "cell_type": "code",
   "execution_count": 32,
   "id": "0ea2cf69",
   "metadata": {},
   "outputs": [
    {
     "data": {
      "text/plain": [
       "0.8019284409929164"
      ]
     },
     "execution_count": 32,
     "metadata": {},
     "output_type": "execute_result"
    }
   ],
   "source": [
    "#proportion of patient without scholarship but showed up \n",
    "no_scholarship_show_prop = no_scholarship_show/ no_scholarship\n",
    "no_scholarship_show_prop"
   ]
  },
  {
   "cell_type": "code",
   "execution_count": 33,
   "id": "f3c2c520",
   "metadata": {},
   "outputs": [
    {
     "data": {
      "text/plain": [
       "8283"
      ]
     },
     "execution_count": 33,
     "metadata": {},
     "output_type": "execute_result"
    }
   ],
   "source": [
    "# extracting the count of patient with scholarship and showed up for appointment\n",
    "scholarship_show = group[1,1]\n",
    "scholarship_show"
   ]
  },
  {
   "cell_type": "code",
   "execution_count": 34,
   "id": "6f33d223",
   "metadata": {},
   "outputs": [
    {
     "data": {
      "text/plain": [
       "10861"
      ]
     },
     "execution_count": 34,
     "metadata": {},
     "output_type": "execute_result"
    }
   ],
   "source": [
    "#getting the total count of patient with scholarship \n",
    "scholarship = df['Scholarship'].value_counts()[1]\n",
    "scholarship"
   ]
  },
  {
   "cell_type": "code",
   "execution_count": 35,
   "id": "8cfc071a",
   "metadata": {},
   "outputs": [
    {
     "data": {
      "text/plain": [
       "0.7626369579228433"
      ]
     },
     "execution_count": 35,
     "metadata": {},
     "output_type": "execute_result"
    }
   ],
   "source": [
    "#proportion of patient with scholarship and showed up \n",
    "scholarship_show_prop = scholarship_show / scholarship\n",
    "scholarship_show_prop"
   ]
  },
  {
   "cell_type": "code",
   "execution_count": 36,
   "id": "0fc3915b",
   "metadata": {
    "scrolled": false
   },
   "outputs": [
    {
     "data": {
      "image/png": "[encoded data removed]",
      "text/plain": [
       "<Figure size 432x288 with 1 Axes>"
      ]
     },
     "metadata": {
      "needs_background": "light"
     },
     "output_type": "display_data"
    }
   ],
   "source": [
    "#plotting a bar chart to show proportion of appointment to scholarship\n",
    "location = [1, 2] \n",
    "Height = [no_scholarship_show_prop, scholarship_show_prop]\n",
    "labels =['no_scholarship_show_prop', 'scholarship_show_prop']\n",
    "plt.bar(location,Height, color = ['r', 'b'])\n",
    "plt.xlabel('Scholarships/no_scholarship')\n",
    "plt.ylabel('Appointment show rate')\n",
    "plt.title('Influence of Scholarhip on appointment')\n",
    "plt.xticks(location, labels);"
   ]
  },
  {
   "cell_type": "code",
   "execution_count": null,
   "id": "d8560b3a",
   "metadata": {},
   "outputs": [],
   "source": []
  },
  {
   "cell_type": "markdown",
   "id": "a2234a7c",
   "metadata": {},
   "source": [
    "**From the chart above, availability of scholarship does not have a significant effect on appointment **"
   ]
  },
  {
   "cell_type": "markdown",
   "id": "50f424a9",
   "metadata": {},
   "source": [
    "## Conclusion"
   ]
  },
  {
   "cell_type": "markdown",
   "id": "d261d0dd",
   "metadata": {},
   "source": [
    "**Question 1 What is the most common disesse among people scheduled for appointment?**\n",
    "\n",
    "Hypertension is the disease that occurs most than other diseases. It is the most common disease that has appointments scheduled.\n",
    "\n",
    "**Question 2: Which Gender is more committed to attending appointments?**\n",
    "\n",
    "Females are more committed to showing up for appointment than males.\n",
    "\n",
    "**Question 3: What is the proportion of patient that showed up for appointment to those that didnt show up?**\n",
    "\n",
    "Patients that show up for appointments are more than those that don't.\n",
    "\n",
    "**Question 4: What is the proportion of patient with scholarship?**\n",
    "\n",
    "Patients with no scholarship are more than patients with scholarship\n",
    "\n",
    "**Question 5: Does Scholarship affect appointment?**\n",
    "\n",
    "Availability of scholarship does not have a significant effect on appointment\n",
    "\n"
   ]
  },
  {
   "cell_type": "markdown",
   "id": "0d8ba3bc",
   "metadata": {},
   "source": [
    "## Limitations\n",
    "\n",
    "From the dataset given, it appears that some patients with no illness were still scheduled for appointmnets which i believe will affect the analysis. \n",
    "This exploration also didn't take into account the effect of neighbourhood, and the difference time between scheduled day and appointment day at the percentage of showing up of patients for their appointment."
   ]
  },
  {
   "cell_type": "code",
   "execution_count": null,
   "id": "7bd0b60f",
   "metadata": {},
   "outputs": [],
   "source": []
  }
 ],
 "metadata": {
  "kernelspec": {
   "display_name": "Python 3 (ipykernel)",
   "language": "python",
   "name": "python3"
  },
  "language_info": {
   "codemirror_mode": {
    "name": "ipython",
    "version": 3
   },
   "file_extension": ".py",
   "mimetype": "text/x-python",
   "name": "python",
   "nbconvert_exporter": "python",
   "pygments_lexer": "ipython3",
   "version": "3.9.7"
  }
 },
 "nbformat": 4,
 "nbformat_minor": 5
}
